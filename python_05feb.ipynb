{
 "cells": [
  {
   "cell_type": "markdown",
   "id": "2e3000d8",
   "metadata": {},
   "source": [
    "<h5>Q1. Explain Class and Object with respect to Object-Oriented Programming. Give a suitable example.</h5>"
   ]
  },
  {
   "cell_type": "markdown",
   "id": "0870138f",
   "metadata": {},
   "source": [
    "<h6>Class and Object</h6>\n",
    "A class is considered as a blueprint of objects.Classes provide a means of bundling data and functionality together. We can think of the class as a sketch (prototype) of a house. It contains all the details about the floors, doors, windows, etc. Based on these descriptions we build the house. House is the object.\n",
    "\n",
    "Each time a new house is built from this blueprint, we are actually creating an instance of the class. Now, each house can have different values for its attributes like the color of the walls, the thickness of the doors and windows, etc."
   ]
  },
  {
   "cell_type": "raw",
   "id": "72f50eda",
   "metadata": {},
   "source": [
    "#Class Syntax\n",
    "class ClassName:\n",
    "    # class definition \n",
    "    \n",
    "#Object Syntax\n",
    "objectName = ClassName()"
   ]
  },
  {
   "cell_type": "code",
   "execution_count": 1,
   "id": "a7820b0c",
   "metadata": {},
   "outputs": [
    {
     "name": "stdout",
     "output_type": "stream",
     "text": [
      "Hello, my name is Kavita\n"
     ]
    }
   ],
   "source": [
    "# Sample class with init method\n",
    "class Person:\n",
    " \n",
    "    # init method or constructor\n",
    "    def __init__(self, name):\n",
    "        self.name = name\n",
    " \n",
    "    # Sample Method\n",
    "    def say_hi(self):\n",
    "        print('Hello, my name is', self.name)\n",
    " \n",
    " \n",
    "p = Person('Kavita')\n",
    "p.say_hi()"
   ]
  },
  {
   "cell_type": "markdown",
   "id": "c44c257e",
   "metadata": {},
   "source": [
    "<h5>Q2. Name the four pillars of OOPs.</h5>"
   ]
  },
  {
   "cell_type": "markdown",
   "id": "07174d97",
   "metadata": {},
   "source": [
    "Four pillars of OOPs are Inheritance, Polymorphism, Encapsulation and Abstraction."
   ]
  },
  {
   "cell_type": "markdown",
   "id": "10a03e3e",
   "metadata": {},
   "source": [
    "<h5>Q3. Explain why the __init__() function is used. Give a suitable example.</h5>"
   ]
  },
  {
   "cell_type": "markdown",
   "id": "2deaedfb",
   "metadata": {},
   "source": [
    "The __init__  function is called every time an object is created from a class. The __init__ method lets the class initialize the object’s attributes and serves no other purpose. It is only used within classes. \n"
   ]
  },
  {
   "cell_type": "code",
   "execution_count": 5,
   "id": "e33a6ed1",
   "metadata": {},
   "outputs": [],
   "source": [
    "#Example\n",
    "\n",
    "class person:\n",
    "    \n",
    "    def __init__(self, email, phone_no, pincode):\n",
    "        self.email = email\n",
    "        self.phone_no = phone_no\n",
    "        self.pincode = pincode\n",
    "        \n",
    "#Creating Object\n",
    "\n",
    "kavita = person(\"kt@gmail.com\",97865221,495677)\n"
   ]
  },
  {
   "cell_type": "code",
   "execution_count": 6,
   "id": "75fe5856",
   "metadata": {},
   "outputs": [
    {
     "data": {
      "text/plain": [
       "'kt@gmail.com'"
      ]
     },
     "execution_count": 6,
     "metadata": {},
     "output_type": "execute_result"
    }
   ],
   "source": [
    "kavita.email"
   ]
  },
  {
   "cell_type": "code",
   "execution_count": 7,
   "id": "09713297",
   "metadata": {},
   "outputs": [
    {
     "data": {
      "text/plain": [
       "495677"
      ]
     },
     "execution_count": 7,
     "metadata": {},
     "output_type": "execute_result"
    }
   ],
   "source": [
    "kavita.pincode"
   ]
  },
  {
   "cell_type": "markdown",
   "id": "d879d424",
   "metadata": {},
   "source": [
    "<h5>Q4. Why self is used in OOPs?</h5>"
   ]
  },
  {
   "cell_type": "markdown",
   "id": "b66e859f",
   "metadata": {},
   "source": [
    "Self represents the instance of the class. By using the “self”  we can access the attributes and methods of the class in python. It binds the attributes with the given arguments.\n",
    "\n",
    "The reason you need to use self. is because Python does not use the @ syntax to refer to instance attributes. Python decided to do methods in a way that makes the instance to which the method belongs be passed automatically, but not received automatically: the first parameter of methods is the instance the method is called on.\n",
    "\n",
    "In more clear way you can say that SELF has following Characteristic-\n",
    "\n",
    "1. Self is always pointing to Current Object.\n",
    "2. Self is the first argument to be passed in Constructor and Instance Method.\n",
    "3. Self is a convention and not a Python keyword ."
   ]
  },
  {
   "cell_type": "markdown",
   "id": "541552d7",
   "metadata": {},
   "source": [
    "<h5>Q5. What is inheritance? Give an example for each type of inheritance</h5>"
   ]
  },
  {
   "cell_type": "markdown",
   "id": "3dd92b7e",
   "metadata": {},
   "source": [
    "Inheritance is defined as the mechanism of inheriting the properties of the base class to the child class. \n",
    "\n",
    "Types of Inheritance depend upon the number of child and parent classes involved. There are four types of inheritance in Python:\n",
    "\n",
    "<h6><u>Single Inheritance: </u></h6>\n",
    "Single inheritance enables a derived class to inherit properties from a single parent class, thus enabling code reusability and the addition of new features to existing code.\n",
    "\n",
    "<h6><u>Multiple Inheritance: </u></h6>\n",
    "When a class can be derived from more than one base class this type of inheritance is called multiple inheritances. In multiple inheritances, all the features of the base classes are inherited into the derived class. \n",
    "\n",
    "<h6><u>Multilevel Inheritance :</u></h6>\n",
    "In multilevel inheritance, features of the base class and the derived class are further inherited into the new derived class. This is similar to a relationship representing a child and a grandfather. \n",
    "\n",
    "<h6><u>Hierarchical Inheritance: </u></h6>\n",
    "When more than one derived class are created from a single base this type of inheritance is called hierarchical inheritance. In this program, we have a parent (base) class and two child (derived) classes."
   ]
  },
  {
   "cell_type": "code",
   "execution_count": 8,
   "id": "eb1580e4",
   "metadata": {},
   "outputs": [
    {
     "name": "stdout",
     "output_type": "stream",
     "text": [
      "This function is in parent class.\n",
      "This function is in child class.\n"
     ]
    }
   ],
   "source": [
    "#Single Inheritance\n",
    "# Python program to demonstrate\n",
    "# single inheritance\n",
    "\n",
    "# Base class\n",
    "class Parent:\n",
    "\tdef func1(self):\n",
    "\t\tprint(\"This function is in parent class.\")\n",
    "\n",
    "# Derived class\n",
    "\n",
    "\n",
    "class Child(Parent):\n",
    "\tdef func2(self):\n",
    "\t\tprint(\"This function is in child class.\")\n",
    "\n",
    "\n",
    "# Driver's code\n",
    "object = Child()\n",
    "object.func1()\n",
    "object.func2()\n"
   ]
  },
  {
   "cell_type": "code",
   "execution_count": 9,
   "id": "e6f7f648",
   "metadata": {},
   "outputs": [
    {
     "name": "stdout",
     "output_type": "stream",
     "text": [
      "Father : RAM\n",
      "Mother : SITA\n"
     ]
    }
   ],
   "source": [
    "#Multilevel Inheritance\n",
    "# Python program to demonstrate\n",
    "# multiple inheritance\n",
    "\n",
    "# Base class1\n",
    "class Mother:\n",
    "\tmothername = \"\"\n",
    "\n",
    "\tdef mother(self):\n",
    "\t\tprint(self.mothername)\n",
    "\n",
    "# Base class2\n",
    "\n",
    "\n",
    "class Father:\n",
    "\tfathername = \"\"\n",
    "\n",
    "\tdef father(self):\n",
    "\t\tprint(self.fathername)\n",
    "\n",
    "# Derived class\n",
    "\n",
    "\n",
    "class Son(Mother, Father):\n",
    "\tdef parents(self):\n",
    "\t\tprint(\"Father :\", self.fathername)\n",
    "\t\tprint(\"Mother :\", self.mothername)\n",
    "\n",
    "\n",
    "# Driver's code\n",
    "s1 = Son()\n",
    "s1.fathername = \"RAM\"\n",
    "s1.mothername = \"SITA\"\n",
    "s1.parents()\n"
   ]
  },
  {
   "cell_type": "code",
   "execution_count": 10,
   "id": "6378bc6c",
   "metadata": {},
   "outputs": [
    {
     "name": "stdout",
     "output_type": "stream",
     "text": [
      "Lal mani\n",
      "Grandfather name : Lal mani\n",
      "Father name : Rampal\n",
      "Son name : Prince\n"
     ]
    }
   ],
   "source": [
    "#Multilevel Inheritance\n",
    "# Python program to demonstrate\n",
    "# multilevel inheritance\n",
    "\n",
    "# Base class\n",
    "\n",
    "\n",
    "class Grandfather:\n",
    "\n",
    "\tdef __init__(self, grandfathername):\n",
    "\t\tself.grandfathername = grandfathername\n",
    "\n",
    "# Intermediate class\n",
    "\n",
    "\n",
    "class Father(Grandfather):\n",
    "\tdef __init__(self, fathername, grandfathername):\n",
    "\t\tself.fathername = fathername\n",
    "\n",
    "\t\t# invoking constructor of Grandfather class\n",
    "\t\tGrandfather.__init__(self, grandfathername)\n",
    "\n",
    "# Derived class\n",
    "\n",
    "\n",
    "class Son(Father):\n",
    "\tdef __init__(self, sonname, fathername, grandfathername):\n",
    "\t\tself.sonname = sonname\n",
    "\n",
    "\t\t# invoking constructor of Father class\n",
    "\t\tFather.__init__(self, fathername, grandfathername)\n",
    "\n",
    "\tdef print_name(self):\n",
    "\t\tprint('Grandfather name :', self.grandfathername)\n",
    "\t\tprint(\"Father name :\", self.fathername)\n",
    "\t\tprint(\"Son name :\", self.sonname)\n",
    "\n",
    "\n",
    "# Driver code\n",
    "s1 = Son('Prince', 'Rampal', 'Lal mani')\n",
    "print(s1.grandfathername)\n",
    "s1.print_name()\n"
   ]
  },
  {
   "cell_type": "code",
   "execution_count": 11,
   "id": "086e0939",
   "metadata": {},
   "outputs": [
    {
     "name": "stdout",
     "output_type": "stream",
     "text": [
      "This function is in parent class.\n",
      "This function is in child 1.\n",
      "This function is in parent class.\n",
      "This function is in child 2.\n"
     ]
    }
   ],
   "source": [
    "#Hierarchial Inheritance\n",
    "# Python program to demonstrate\n",
    "# Hierarchical inheritance\n",
    "\n",
    "\n",
    "# Base class\n",
    "class Parent:\n",
    "\tdef func1(self):\n",
    "\t\tprint(\"This function is in parent class.\")\n",
    "\n",
    "# Derived class1\n",
    "\n",
    "\n",
    "class Child1(Parent):\n",
    "\tdef func2(self):\n",
    "\t\tprint(\"This function is in child 1.\")\n",
    "\n",
    "# Derivied class2\n",
    "\n",
    "\n",
    "class Child2(Parent):\n",
    "\tdef func3(self):\n",
    "\t\tprint(\"This function is in child 2.\")\n",
    "\n",
    "\n",
    "# Driver's code\n",
    "object1 = Child1()\n",
    "object2 = Child2()\n",
    "object1.func1()\n",
    "object1.func2()\n",
    "object2.func1()\n",
    "object2.func3()\n"
   ]
  },
  {
   "cell_type": "code",
   "execution_count": null,
   "id": "d1c62a76",
   "metadata": {},
   "outputs": [],
   "source": []
  }
 ],
 "metadata": {
  "kernelspec": {
   "display_name": "Python 3 (ipykernel)",
   "language": "python",
   "name": "python3"
  },
  "language_info": {
   "codemirror_mode": {
    "name": "ipython",
    "version": 3
   },
   "file_extension": ".py",
   "mimetype": "text/x-python",
   "name": "python",
   "nbconvert_exporter": "python",
   "pygments_lexer": "ipython3",
   "version": "3.9.7"
  }
 },
 "nbformat": 4,
 "nbformat_minor": 5
}
