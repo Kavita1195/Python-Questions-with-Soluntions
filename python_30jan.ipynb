{
 "cells": [
  {
   "cell_type": "markdown",
   "id": "12469ed6",
   "metadata": {},
   "source": [
    "<h5>1.Write a program to accept percentage from the user and display the grade.</h5>"
   ]
  },
  {
   "cell_type": "code",
   "execution_count": 3,
   "id": "3b1c5725",
   "metadata": {},
   "outputs": [
    {
     "name": "stdout",
     "output_type": "stream",
     "text": [
      "Enter Percentage:89\n",
      "Grade: B\n"
     ]
    }
   ],
   "source": [
    "percent = int(input(\"Enter Percentage:\"))\n",
    "\n",
    "if percent > 90:\n",
    "    grade = \"A\"\n",
    "elif percent > 80 and percent <= 90:\n",
    "    grade = \"B\"\n",
    "elif percent >= 60 and percent <= 80:\n",
    "    grade = \"C\"\n",
    "else:\n",
    "    grade = \"D\"\n",
    "    \n",
    "print(\"Grade:\", grade)"
   ]
  },
  {
   "cell_type": "markdown",
   "id": "93205fdf",
   "metadata": {},
   "source": [
    "<h5>2. WAP to accept the cost price of a bike and display the road tax to be paid.</h5>"
   ]
  },
  {
   "cell_type": "code",
   "execution_count": 5,
   "id": "2f1977e7",
   "metadata": {},
   "outputs": [
    {
     "name": "stdout",
     "output_type": "stream",
     "text": [
      "Enter Cost Price(in Rs):45000\n",
      "Tax: 2250.0 Rs\n"
     ]
    }
   ],
   "source": [
    "price = int(input(\"Enter Cost Price(in Rs):\"))\n",
    "\n",
    "if price > 100000:\n",
    "    tax = 0.15*price\n",
    "elif price > 50000 and price <= 100000:\n",
    "    tax = 0.10*price\n",
    "elif price <= 50000:\n",
    "    tax = 0.05*price\n",
    "else:\n",
    "    tax = 0\n",
    "    \n",
    "print(\"Tax:\",tax,\"Rs\")"
   ]
  },
  {
   "cell_type": "markdown",
   "id": "2fe79627",
   "metadata": {},
   "source": [
    "<h5>3.Accept any city from the user and display monuments of that city.</h5>"
   ]
  },
  {
   "cell_type": "code",
   "execution_count": 4,
   "id": "aed7eae6",
   "metadata": {},
   "outputs": [
    {
     "name": "stdout",
     "output_type": "stream",
     "text": [
      "Enter city name:ghjk\n",
      "Monument: \n"
     ]
    }
   ],
   "source": [
    "city = input(\"Enter city name:\")\n",
    "\n",
    "city = city.lower()\n",
    "\n",
    "if city == \"delhi\":\n",
    "    a = \"Red Fort\"\n",
    "elif city == \"agra\":\n",
    "    a = \"Taj Mahal\"\n",
    "elif city == \"jaipur\":\n",
    "    a = \"Jai Mahal\"\n",
    "else:\n",
    "    a = \"\"\n",
    "    \n",
    "print(\"Monument:\",a)"
   ]
  },
  {
   "cell_type": "markdown",
   "id": "62aa6801",
   "metadata": {},
   "source": [
    "<h5>4.Check how many times a given number can be divided by 3 before it is less than or equal to 10</h5>"
   ]
  },
  {
   "cell_type": "code",
   "execution_count": 5,
   "id": "170bfc71",
   "metadata": {},
   "outputs": [
    {
     "name": "stdout",
     "output_type": "stream",
     "text": [
      "No. divisible by 3 upto 10: 3\n"
     ]
    }
   ],
   "source": [
    "count = 0\n",
    "for i in range(1,11):\n",
    "    if i%3 == 0:\n",
    "        count = count+1\n",
    "        \n",
    "print(\"No. divisible by 3 upto 10:\",count)"
   ]
  },
  {
   "cell_type": "markdown",
   "id": "a52d3e55",
   "metadata": {},
   "source": [
    "<h5>Why and when to use while loop in python give a detailed description with example.</h5>"
   ]
  },
  {
   "cell_type": "markdown",
   "id": "ac765dd2",
   "metadata": {},
   "source": [
    "In coding, loops are designed to execute a specified code block repeatedly.\n",
    "\n",
    "Python while loop is used to run a block code until a certain condition is met. Here, A while loop evaluates the condition. If the condition evaluates to True , the code inside the while loop is executed.\n",
    "\n",
    "If we don't know how many times we'll execute the iteration ahead of time, we can write an indefinite loop.\n",
    "\n",
    "Example of while loop - Cumulative sum of a number like 1234 should be 10"
   ]
  },
  {
   "cell_type": "code",
   "execution_count": 6,
   "id": "6c2431a2",
   "metadata": {},
   "outputs": [
    {
     "name": "stdout",
     "output_type": "stream",
     "text": [
      "Enter no. 1234\n",
      "Sum= 10\n"
     ]
    }
   ],
   "source": [
    "#code\n",
    "a = int(input(\"Enter no. \"))\n",
    "\n",
    "sum = 0\n",
    "while(a>0):\n",
    "    remainder = a%10\n",
    "    sum = sum + remainder\n",
    "    a = a//10\n",
    "    \n",
    "print(\"Sum=\",sum)"
   ]
  },
  {
   "cell_type": "markdown",
   "id": "cb25b7f6",
   "metadata": {},
   "source": [
    "In above code input is number and number can't be iterate like string so it is not possible to define range. Here we should go for while loop."
   ]
  },
  {
   "cell_type": "markdown",
   "id": "602649ea",
   "metadata": {},
   "source": [
    "<h5>6.Use Nested While Loop to print 3 different Patterns</h5>"
   ]
  },
  {
   "cell_type": "code",
   "execution_count": 16,
   "id": "04d50b88",
   "metadata": {},
   "outputs": [
    {
     "name": "stdout",
     "output_type": "stream",
     "text": [
      "*\n",
      "**\n",
      "***\n",
      "****\n",
      "*****\n"
     ]
    }
   ],
   "source": [
    "#First Pattern\n",
    "i = 1\n",
    "while(i <= 5):\n",
    "    j = 1\n",
    "    while(j <= i):\n",
    "        print(\"*\", end=\"\")\n",
    "        j = j+1\n",
    "    print()\n",
    "    i= i+1"
   ]
  },
  {
   "cell_type": "code",
   "execution_count": 20,
   "id": "403a9b17",
   "metadata": {},
   "outputs": [
    {
     "name": "stdout",
     "output_type": "stream",
     "text": [
      "*****\n",
      "****\n",
      "***\n",
      "**\n",
      "*\n"
     ]
    }
   ],
   "source": [
    "#Second Pattern\n",
    "i = 1\n",
    "while(i <= 5):\n",
    "    j = 5\n",
    "    while(j>=i):\n",
    "        print(\"*\", end=\"\")\n",
    "        j = j-1\n",
    "    print()\n",
    "    i= i+1"
   ]
  },
  {
   "cell_type": "code",
   "execution_count": 21,
   "id": "cbd0b12b",
   "metadata": {},
   "outputs": [
    {
     "name": "stdout",
     "output_type": "stream",
     "text": [
      "*****\n",
      "*****\n",
      "*****\n",
      "*****\n",
      "*****\n"
     ]
    }
   ],
   "source": [
    "# 3rd Pattern\n",
    "i = 1\n",
    "while(i <= 5):\n",
    "    j = 1\n",
    "    while(j <= 5):\n",
    "        print(\"*\", end=\"\")\n",
    "        j = j+1\n",
    "    print()\n",
    "    i= i+1"
   ]
  },
  {
   "cell_type": "markdown",
   "id": "48d28d90",
   "metadata": {},
   "source": [
    "<h5>7.Reverse a while loop to display numbers from 10 to 1.</h5>"
   ]
  },
  {
   "cell_type": "code",
   "execution_count": 8,
   "id": "5c3a2c50",
   "metadata": {},
   "outputs": [
    {
     "name": "stdout",
     "output_type": "stream",
     "text": [
      "10\n",
      "9\n",
      "8\n",
      "7\n",
      "6\n",
      "5\n",
      "4\n",
      "3\n",
      "2\n",
      "1\n"
     ]
    }
   ],
   "source": [
    "number = 10\n",
    "\n",
    "while number > 0:\n",
    "    print(number)\n",
    "    number = number - 1\n",
    "    "
   ]
  },
  {
   "cell_type": "code",
   "execution_count": null,
   "id": "f74f10a6",
   "metadata": {},
   "outputs": [],
   "source": []
  }
 ],
 "metadata": {
  "kernelspec": {
   "display_name": "Python 3 (ipykernel)",
   "language": "python",
   "name": "python3"
  },
  "language_info": {
   "codemirror_mode": {
    "name": "ipython",
    "version": 3
   },
   "file_extension": ".py",
   "mimetype": "text/x-python",
   "name": "python",
   "nbconvert_exporter": "python",
   "pygments_lexer": "ipython3",
   "version": "3.9.7"
  }
 },
 "nbformat": 4,
 "nbformat_minor": 5
}
