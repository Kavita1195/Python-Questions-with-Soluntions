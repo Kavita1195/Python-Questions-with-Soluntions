{
 "cells": [
  {
   "cell_type": "markdown",
   "id": "abc7f207",
   "metadata": {},
   "source": [
    "<h5>Q1. Create a function which will take a list as an argument and return the product of all the numbers \n",
    "after creating a flat list.\n",
    "\n",
    "Use the below-given list as an argument for your function.\n",
    "\n",
    "\n",
    "list1 = [1,2,3,4, [44,55,66, True], False, (34,56,78,89,34), {1,2,3,3,2,1}, {1:34, \"key2\": [55, 67, 78, 89], 4: (45, \n",
    "22, 61, 34)}, [56, 'data science'], 'Machine Learning']\n",
    "\n",
    "\n",
    "Note: you must extract numeric keys and values of the dictionary also</h5>"
   ]
  },
  {
   "cell_type": "code",
   "execution_count": 26,
   "id": "8efcb179",
   "metadata": {},
   "outputs": [],
   "source": [
    "\n",
    "def product_list(lst):\n",
    "    l = []\n",
    "    for i in lst:\n",
    "        if type(i) == int:\n",
    "            l.append(i)\n",
    "        elif type(i) == list or type(i) == tuple or type(i) == set:\n",
    "            for x in i:\n",
    "                if type(x) == int:\n",
    "                    l.append(x)\n",
    "        elif type(i) == dict:\n",
    "            for key,val in i.items():       #in dictionary key's number are not include in product\n",
    "                if type(val) == int:\n",
    "                    l.append(val)\n",
    "                elif type(val) == list or type(val) == tuple or type(val) == set:\n",
    "                    for x in val:\n",
    "                        if type(x) == int:\n",
    "                            l.append(x)\n",
    "        else:\n",
    "            pass\n",
    "\n",
    "    prod = 1                       \n",
    "    for item in l:\n",
    "        prod = prod*item\n",
    "\n",
    "    return prod\n",
    "\n",
    "\n",
    "    "
   ]
  },
  {
   "cell_type": "code",
   "execution_count": 27,
   "id": "88ccde48",
   "metadata": {},
   "outputs": [
    {
     "data": {
      "text/plain": [
       "1033677959746771369708460310528000"
      ]
     },
     "execution_count": 27,
     "metadata": {},
     "output_type": "execute_result"
    }
   ],
   "source": [
    "list1 = [1,2,3,4, [44,55,66, True], False, (34,56,78,89,34), {1,2,3,3,2,1}, {1:34, \"key2\": [55, 67, 78, 89], 4: (45, 22, 61, 34)}, [56, 'data science'], 'Machine Learning']\n",
    "\n",
    "value = product_list(list1)\n",
    "value"
   ]
  },
  {
   "cell_type": "markdown",
   "id": "1d2fb11c",
   "metadata": {},
   "source": [
    "<h5>Q2. Write a python program for encrypting a message sent to you by your friend. The logic of encryption \n",
    "should be such that, for a the output should be z. For b, the output should be y. For c, the output should \n",
    "be x respectively. Also, the whitespace should be replaced with a dollar sign. Keep the punctuation \n",
    "marks unchanged.\n",
    "\n",
    "\n",
    "Input Sentence: I want to become a Data Scientist.\n",
    "\n",
    "\n",
    "Encrypt the above input sentence using the program you just created.\n",
    "\n",
    "\n",
    "Note: Convert the given input sentence into lowercase before encrypting. The final output should be \n",
    "lowercase</h5>"
   ]
  },
  {
   "cell_type": "code",
   "execution_count": 6,
   "id": "2a477c94",
   "metadata": {},
   "outputs": [
    {
     "name": "stdout",
     "output_type": "stream",
     "text": [
      "Input Sentence:I want to become a Data Scientist\n",
      "i$wznt$to$yexome$z$dztz$sxientist\n"
     ]
    }
   ],
   "source": [
    "str_1 = input(\"Input Sentence:\")\n",
    "str_2 = str_1.lower()\n",
    "\n",
    "new_str = \"\"\n",
    "\n",
    "for i in str_2:\n",
    "    if i == \"a\":\n",
    "        new_str = new_str + \"z\"\n",
    "    elif i == \"b\":\n",
    "        new_str = new_str + \"y\"\n",
    "    elif i == \"c\":\n",
    "        new_str = new_str + \"x\"\n",
    "    elif i == \" \":\n",
    "        new_str = new_str + \"$\"\n",
    "    else:\n",
    "        new_str = new_str + i\n",
    "        \n",
    "print(new_str)"
   ]
  },
  {
   "cell_type": "code",
   "execution_count": null,
   "id": "f8b2b808",
   "metadata": {},
   "outputs": [],
   "source": []
  }
 ],
 "metadata": {
  "kernelspec": {
   "display_name": "Python 3 (ipykernel)",
   "language": "python",
   "name": "python3"
  },
  "language_info": {
   "codemirror_mode": {
    "name": "ipython",
    "version": 3
   },
   "file_extension": ".py",
   "mimetype": "text/x-python",
   "name": "python",
   "nbconvert_exporter": "python",
   "pygments_lexer": "ipython3",
   "version": "3.9.7"
  }
 },
 "nbformat": 4,
 "nbformat_minor": 5
}
