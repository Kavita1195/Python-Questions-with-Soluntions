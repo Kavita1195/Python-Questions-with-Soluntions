{
 "cells": [
  {
   "cell_type": "markdown",
   "id": "4aabae46",
   "metadata": {},
   "source": [
    "<h3>Q1.  Explain with an example each when to use a for loop and a while loop.<h3>"
   ]
  },
  {
   "cell_type": "markdown",
   "id": "70115495",
   "metadata": {},
   "source": [
    "<h4>For Loop</h4>\n",
    "The for loop is used when we already know the number of iterations,which means when we know how many times a statement has to be executed."
   ]
  },
  {
   "cell_type": "markdown",
   "id": "bd961e8c",
   "metadata": {},
   "source": [
    "Example-\n",
    "How many nos. are divisible by 3 between 1 to 50?\n"
   ]
  },
  {
   "cell_type": "code",
   "execution_count": 1,
   "id": "df1bdae8",
   "metadata": {},
   "outputs": [
    {
     "data": {
      "text/plain": [
       "16"
      ]
     },
     "execution_count": 1,
     "metadata": {},
     "output_type": "execute_result"
    }
   ],
   "source": [
    "count = 0\n",
    "for i in range(1,51):\n",
    "    if i%3 == 0:\n",
    "        count = count+1\n",
    "\n",
    "count"
   ]
  },
  {
   "cell_type": "markdown",
   "id": "18f02364",
   "metadata": {},
   "source": [
    "<h4>While Loop</h4>\n",
    "When we need to end the loop on a condition other than the number of times, we use a while loop."
   ]
  },
  {
   "cell_type": "markdown",
   "id": "c44f958f",
   "metadata": {},
   "source": [
    "Example - Cumulative sum of a number like 1234 should be 10."
   ]
  },
  {
   "cell_type": "code",
   "execution_count": 2,
   "id": "e5defd81",
   "metadata": {},
   "outputs": [
    {
     "name": "stdout",
     "output_type": "stream",
     "text": [
      "Enter no. 1234\n",
      "Sum= 10\n"
     ]
    }
   ],
   "source": [
    "a = int(input(\"Enter no. \"))\n",
    "\n",
    "sum = 0\n",
    "while(a>0):\n",
    "    remainder = a%10\n",
    "    sum = sum + remainder\n",
    "    a = a//10\n",
    "    \n",
    "print(\"Sum=\",sum)"
   ]
  },
  {
   "cell_type": "markdown",
   "id": "3c0dd897",
   "metadata": {},
   "source": [
    "<h3>Q2.  Write a python program to print the sum and product of the first 10 natural numbers using for \n",
    "and while loop</h3>"
   ]
  },
  {
   "cell_type": "code",
   "execution_count": 3,
   "id": "99a045b4",
   "metadata": {},
   "outputs": [
    {
     "name": "stdout",
     "output_type": "stream",
     "text": [
      "Sum of first 10 natural number: 55\n"
     ]
    }
   ],
   "source": [
    "#For Loop\n",
    "sum = 0\n",
    "for i in range(1,11):\n",
    "    sum = sum + i\n",
    "    \n",
    "print(\"Sum of first 10 natural number:\", sum)"
   ]
  },
  {
   "cell_type": "code",
   "execution_count": 4,
   "id": "c363caac",
   "metadata": {},
   "outputs": [
    {
     "name": "stdout",
     "output_type": "stream",
     "text": [
      "Sum of first 10 natural number: 55\n"
     ]
    }
   ],
   "source": [
    "#while loop\n",
    "\n",
    "sum = 0\n",
    "count = 1\n",
    "while count <=10:\n",
    "    sum = sum + count \n",
    "    count = count + 1\n",
    "    \n",
    "print(\"Sum of first 10 natural number:\", sum)\n"
   ]
  },
  {
   "cell_type": "markdown",
   "id": "048f444c",
   "metadata": {},
   "source": [
    "<h5>Q3. Create a python program to compute the electricity bill for a household.\n",
    "\n",
    "The per-unit charges in rupees are as follows: For the first 100 units, the user will be charged Rs. 4.5 per \n",
    "unit, for the next 100 units, the user will be charged Rs. 6 per unit, and for the next 100 units, the user will \n",
    "be charged Rs. 10 per unit, After 300 units and above the user will be charged Rs. 20 per unit\n",
    "    \n",
    "    \n",
    "You are required to take the units of electricity consumed in a month from the user as input.\n",
    "\n",
    "\n",
    "Your program must pass this test case: when the unit of electricity consumed by the user in a month is \n",
    "310, the total electricity bill should be 2250\n",
    "</h5>"
   ]
  },
  {
   "cell_type": "code",
   "execution_count": 5,
   "id": "68db6139",
   "metadata": {},
   "outputs": [
    {
     "name": "stdout",
     "output_type": "stream",
     "text": [
      "Units of electricity consumed in a month:310\n",
      "Electricity bill: 2250.0\n"
     ]
    }
   ],
   "source": [
    "unit = int(input(\"Units of electricity consumed in a month:\"))\n",
    "\n",
    "amount = 0\n",
    "total_amount = 0\n",
    "\n",
    "if unit <= 100:\n",
    "    amount = unit*4.5\n",
    "    \n",
    "elif unit > 100 and unit <=200:\n",
    "    amount = 100*4.5 + (unit - 100)*6 \n",
    "    \n",
    "elif unit > 200 and unit <= 300:\n",
    "    amount = 100*4.5 + 100*6 + (unit - 200)*10\n",
    "    \n",
    "else:\n",
    "    amount = 100*4.5 + 100*6 + 100*10 + (unit - 300)*20\n",
    "    \n",
    "print(\"Electricity bill:\", amount)"
   ]
  },
  {
   "cell_type": "markdown",
   "id": "2591c5ea",
   "metadata": {},
   "source": [
    "<h5>Q4. Create a list of numbers from 1 to 100. Use for loop and while loop to calculate the cube of each \n",
    "number and if the cube of that number is divisible by 4 or 5 then append that number in a list and print \n",
    "that list.</h5>"
   ]
  },
  {
   "cell_type": "code",
   "execution_count": 6,
   "id": "9b7ada8a",
   "metadata": {},
   "outputs": [
    {
     "name": "stdout",
     "output_type": "stream",
     "text": [
      "[1, 2, 3, 4, 5, 6, 7, 8, 9, 10, 11, 12, 13, 14, 15, 16, 17, 18, 19, 20, 21, 22, 23, 24, 25, 26, 27, 28, 29, 30, 31, 32, 33, 34, 35, 36, 37, 38, 39, 40, 41, 42, 43, 44, 45, 46, 47, 48, 49, 50, 51, 52, 53, 54, 55, 56, 57, 58, 59, 60, 61, 62, 63, 64, 65, 66, 67, 68, 69, 70, 71, 72, 73, 74, 75, 76, 77, 78, 79, 80, 81, 82, 83, 84, 85, 86, 87, 88, 89, 90, 91, 92, 93, 94, 95, 96, 97, 98, 99, 100]\n"
     ]
    }
   ],
   "source": [
    "number = list(range(1,101))\n",
    "print(number)"
   ]
  },
  {
   "cell_type": "code",
   "execution_count": 7,
   "id": "3253cc83",
   "metadata": {},
   "outputs": [
    {
     "name": "stdout",
     "output_type": "stream",
     "text": [
      "List: [2, 4, 5, 6, 8, 10, 12, 14, 15, 16, 18, 20, 22, 24, 25, 26, 28, 30, 32, 34, 35, 36, 38, 40, 42, 44, 45, 46, 48, 50, 52, 54, 55, 56, 58, 60, 62, 64, 65, 66, 68, 70, 72, 74, 75, 76, 78, 80, 82, 84, 85, 86, 88, 90, 92, 94, 95, 96, 98, 100]\n"
     ]
    }
   ],
   "source": [
    "#Using For loop\n",
    "new_list = []\n",
    "for i in number:\n",
    "    new_num = i**3\n",
    "    if new_num%4 == 0 or new_num%5 == 0:\n",
    "        new_list.append(i)\n",
    "        \n",
    "print(\"List:\", new_list)"
   ]
  },
  {
   "cell_type": "code",
   "execution_count": 8,
   "id": "1420454a",
   "metadata": {},
   "outputs": [
    {
     "name": "stdout",
     "output_type": "stream",
     "text": [
      "List: [2, 4, 5, 6, 8, 10, 12, 14, 15, 16, 18, 20, 22, 24, 25, 26, 28, 30, 32, 34, 35, 36, 38, 40, 42, 44, 45, 46, 48, 50, 52, 54, 55, 56, 58, 60, 62, 64, 65, 66, 68, 70, 72, 74, 75, 76, 78, 80, 82, 84, 85, 86, 88, 90, 92, 94, 95, 96, 98, 100]\n"
     ]
    }
   ],
   "source": [
    "#using while loop\n",
    "new_list = []\n",
    "i = 0\n",
    "while i < 100:\n",
    "    new_num = number[i]**3\n",
    "    if new_num%4 == 0 or new_num%5 == 0:\n",
    "        new_list.append(number[i])\n",
    "    \n",
    "    i= i+1\n",
    "   \n",
    "\n",
    "print(\"List:\", new_list)"
   ]
  },
  {
   "cell_type": "markdown",
   "id": "66e021b2",
   "metadata": {},
   "source": [
    "<h5>Q5.  Write a program to filter count vowels in the below-given string.\n",
    "\n",
    "string = \"I want to become a data scientist\"</h5>"
   ]
  },
  {
   "cell_type": "code",
   "execution_count": 9,
   "id": "bf0bb8ba",
   "metadata": {},
   "outputs": [
    {
     "name": "stdout",
     "output_type": "stream",
     "text": [
      "12\n",
      "['I', 'a', 'o', 'e', 'o', 'e', 'a', 'a', 'a', 'i', 'e', 'i']\n"
     ]
    }
   ],
   "source": [
    "string = \"I want to become a data scientist\"\n",
    "\n",
    "vowels = set(\"aeiouAEIOU\")\n",
    "count = 0\n",
    "vowel_list = []\n",
    "\n",
    "for i in string:\n",
    "    if i in vowels:\n",
    "        count = count+1\n",
    "        vowel_list.append(i)\n",
    "        \n",
    "print(count)\n",
    "print(vowel_list)"
   ]
  },
  {
   "cell_type": "code",
   "execution_count": null,
   "id": "a50ed7ed",
   "metadata": {},
   "outputs": [],
   "source": []
  }
 ],
 "metadata": {
  "kernelspec": {
   "display_name": "Python 3 (ipykernel)",
   "language": "python",
   "name": "python3"
  },
  "language_info": {
   "codemirror_mode": {
    "name": "ipython",
    "version": 3
   },
   "file_extension": ".py",
   "mimetype": "text/x-python",
   "name": "python",
   "nbconvert_exporter": "python",
   "pygments_lexer": "ipython3",
   "version": "3.9.7"
  }
 },
 "nbformat": 4,
 "nbformat_minor": 5
}
