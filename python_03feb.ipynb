{
 "cells": [
  {
   "cell_type": "markdown",
   "id": "1391862c",
   "metadata": {},
   "source": [
    "<h5>Q1. Which keyword is used to create a function? Create a function to return a list of odd numbers in the \n",
    "range of 1 to 25</h5>"
   ]
  },
  {
   "cell_type": "markdown",
   "id": "e42bba0a",
   "metadata": {},
   "source": [
    "'def function_name():' def keyword is used to create a function."
   ]
  },
  {
   "cell_type": "code",
   "execution_count": 1,
   "id": "6fd4d1c6",
   "metadata": {},
   "outputs": [],
   "source": [
    "def odd_number():\n",
    "    lst = []\n",
    "    for i in range(1,26):\n",
    "        if i%2 != 0:\n",
    "            lst.append(i)\n",
    "    return lst"
   ]
  },
  {
   "cell_type": "code",
   "execution_count": 2,
   "id": "73553d82",
   "metadata": {},
   "outputs": [
    {
     "data": {
      "text/plain": [
       "[1, 3, 5, 7, 9, 11, 13, 15, 17, 19, 21, 23, 25]"
      ]
     },
     "execution_count": 2,
     "metadata": {},
     "output_type": "execute_result"
    }
   ],
   "source": [
    "odd_number()"
   ]
  },
  {
   "cell_type": "markdown",
   "id": "ead50b2d",
   "metadata": {},
   "source": [
    "<h5>Q2. Why *args and **kwargs is used in some functions? Create a function each for *args and **kwargs \n",
    "to demonstrate their use.</h5>"
   ]
  },
  {
   "cell_type": "markdown",
   "id": "76e1f85e",
   "metadata": {},
   "source": [
    "In programming, we define a function to make a reusable code that performs similar operation. To perform that operation, we call a function with the specific value, this value is called a function argument in Python.\n",
    "\n",
    "In Python, we can pass a variable number of arguments to a function using special symbols. There are two special symbols:\n",
    "\n",
    "1. *args (Non Keyword Arguments)\n",
    "2. **kwargs (Keyword Arguments)\n",
    "\n",
    "We use *args and **kwargs as an argument when we are unsure about the number of arguments to pass in the functions.\n",
    "\n",
    "<h6><u>Python *args</u></h6>\n",
    "\n",
    "As in the above example we are not sure about the number of arguments that can be passed to a function. Python has *args which allow us to pass the variable number of non keyword arguments to function.\n",
    "\n",
    "In the function, we should use an asterisk * before the parameter name to pass variable length arguments.The arguments are passed as a tuple and these passed arguments make tuple inside the function with same name as the parameter excluding asterisk *.\n",
    "\n",
    "<h6><u>Python **kwargs</u></h6>\n",
    "\n",
    "Python passes variable length non keyword argument to function using *args but we cannot use this to pass keyword argument. For this problem Python has got a solution called **kwargs, it allows us to pass the variable length of keyword arguments to the function.\n",
    "\n",
    "In the function, we use the double asterisk ** before the parameter name to denote this type of argument. The arguments are passed as a dictionary and these arguments make a dictionary inside function with name same as the parameter excluding double asterisk **."
   ]
  },
  {
   "cell_type": "code",
   "execution_count": 3,
   "id": "5bab9ee5",
   "metadata": {},
   "outputs": [],
   "source": [
    "#example of *args\n",
    "\n",
    "def add(*num):\n",
    "    sum = 0\n",
    "    \n",
    "    for n in num:\n",
    "        sum = sum + n\n",
    "\n",
    "    print(\"Sum:\",sum)"
   ]
  },
  {
   "cell_type": "code",
   "execution_count": 4,
   "id": "0be4d8f0",
   "metadata": {},
   "outputs": [
    {
     "name": "stdout",
     "output_type": "stream",
     "text": [
      "Sum: 12\n"
     ]
    }
   ],
   "source": [
    "add(3,4,5)"
   ]
  },
  {
   "cell_type": "code",
   "execution_count": 5,
   "id": "a33e3313",
   "metadata": {},
   "outputs": [
    {
     "name": "stdout",
     "output_type": "stream",
     "text": [
      "Sum: 210\n"
     ]
    }
   ],
   "source": [
    "add(10,20,30,40,50,60)"
   ]
  },
  {
   "cell_type": "code",
   "execution_count": 8,
   "id": "50df3a6d",
   "metadata": {},
   "outputs": [],
   "source": [
    "#example of **kwargs\n",
    "\n",
    "def intro(**data):\n",
    "    for key,value in data.items():\n",
    "        print(key,\"=\", value)\n",
    "        "
   ]
  },
  {
   "cell_type": "code",
   "execution_count": 9,
   "id": "8c57a413",
   "metadata": {},
   "outputs": [
    {
     "name": "stdout",
     "output_type": "stream",
     "text": [
      "firstname = Kavita\n",
      "lastname = Tamboli\n"
     ]
    }
   ],
   "source": [
    "intro(firstname = \"Kavita\", lastname = \"Tamboli\")"
   ]
  },
  {
   "cell_type": "code",
   "execution_count": 10,
   "id": "d86a70a3",
   "metadata": {},
   "outputs": [
    {
     "name": "stdout",
     "output_type": "stream",
     "text": [
      "firstname = Kavita\n",
      "lastname = Tamboli\n",
      "age = 28\n",
      "place = chhattisgarh\n"
     ]
    }
   ],
   "source": [
    "intro(firstname = \"Kavita\", lastname = \"Tamboli\", age=\"28\", place=\"chhattisgarh\")"
   ]
  },
  {
   "cell_type": "markdown",
   "id": "f3549f98",
   "metadata": {},
   "source": [
    "<h5>Q3.  What is an iterator in python? Name the method used to initialise the iterator object and the method \n",
    "used for iteration. Use these methods to print the first five elements of the given list [2, 4, 6, 8, 10, 12, 14, \n",
    "16, 18, 20]</h5>"
   ]
  },
  {
   "cell_type": "markdown",
   "id": "1ee330cf",
   "metadata": {},
   "source": [
    "<h6>Iterator in python</h6>\n",
    "\n",
    "An iterator in Python is an object that contains a countable number of elements that can be iterated upon. In simpler words, we can say that Iterators are objects that allow you to traverse through all the elements of a collection and return one element at a time. More specifically, we say that an iterator is an object that implements the iterator protocol. \n",
    "\n",
    "<h6>Initializing the Iterator in Python</h6>\n",
    "The iterator consists of two methods: \n",
    "\n",
    "iter() and \n",
    "next().  \n",
    "Iter() method is used to initialize the iterator object so that the instance of this object can be used for iterating.\n",
    "\n",
    "Syntax is\n",
    "\n",
    "myiterator =  iter()\n",
    "\n",
    "<h6>Iteration of the Iterator</h6>\n",
    "The next() method is used to iterate over the iterable objects. The next() method returns the next value in the iterable object.\n",
    "\n",
    "Syntax is\n",
    "\n",
    "item = next(myiterator)\n",
    "\n"
   ]
  },
  {
   "cell_type": "code",
   "execution_count": 14,
   "id": "7985d467",
   "metadata": {},
   "outputs": [
    {
     "name": "stdout",
     "output_type": "stream",
     "text": [
      "2\n",
      "4\n",
      "6\n",
      "8\n",
      "10\n"
     ]
    }
   ],
   "source": [
    "lst = [2, 4, 6, 8, 10, 12, 14, 16, 18, 20]\n",
    "\n",
    "l1 = iter(lst)\n",
    "\n",
    "print(next(l1))\n",
    "print(next(l1))\n",
    "print(next(l1))\n",
    "print(next(l1))\n",
    "print(next(l1))"
   ]
  },
  {
   "cell_type": "markdown",
   "id": "9dfbf107",
   "metadata": {},
   "source": [
    "<h5>Q4.  What is a generator function in python? Why yield keyword is used? Give an example of a generator \n",
    "function</h5>"
   ]
  },
  {
   "cell_type": "markdown",
   "id": "9b16aa4e",
   "metadata": {},
   "source": [
    "In Python, a generator is a function that returns an iterator that produces a sequence of values when iterated over.\n",
    "\n",
    "Generators are useful when we want to produce a large sequence of values, but we don't want to store all of them in memory at once.\n",
    "\n",
    "In Python, similar to defining a normal function, we can define a generator function using the def keyword, but instead of the return statement we use the yield statement.\n"
   ]
  },
  {
   "cell_type": "raw",
   "id": "4b7f5c63",
   "metadata": {},
   "source": [
    "def generator_name(arg):\n",
    "    # statements\n",
    "    yield something"
   ]
  },
  {
   "cell_type": "markdown",
   "id": "c57f4b29",
   "metadata": {},
   "source": [
    "Here, the yield keyword is used to produce a value from the generator.\n",
    "\n",
    "When the generator function is called, it does not execute the function body immediately. Instead, it returns a generator object that can be iterated over to produce the values."
   ]
  },
  {
   "cell_type": "code",
   "execution_count": 15,
   "id": "1656cde2",
   "metadata": {},
   "outputs": [],
   "source": [
    "#Example of Generator\n",
    "def square(n):\n",
    "    for i in range(n+1):\n",
    "        yield i**2"
   ]
  },
  {
   "cell_type": "code",
   "execution_count": 16,
   "id": "e208bb08",
   "metadata": {},
   "outputs": [
    {
     "data": {
      "text/plain": [
       "<generator object square at 0x000001350E556F20>"
      ]
     },
     "execution_count": 16,
     "metadata": {},
     "output_type": "execute_result"
    }
   ],
   "source": [
    "square(5)"
   ]
  },
  {
   "cell_type": "code",
   "execution_count": 17,
   "id": "7c47a069",
   "metadata": {},
   "outputs": [
    {
     "data": {
      "text/plain": [
       "[0, 1, 4, 9, 16, 25]"
      ]
     },
     "execution_count": 17,
     "metadata": {},
     "output_type": "execute_result"
    }
   ],
   "source": [
    "list(square(5))"
   ]
  },
  {
   "cell_type": "markdown",
   "id": "0301c3d5",
   "metadata": {},
   "source": [
    "<h5>Q5. Create a generator function for prime numbers less than 1000. Use the next() method to print the \n",
    "first 20 prime numbers</h5>"
   ]
  },
  {
   "cell_type": "code",
   "execution_count": 22,
   "id": "edae06ca",
   "metadata": {},
   "outputs": [],
   "source": [
    "def prime_number(givenNumber):\n",
    "    \n",
    "    for i in range(2, givenNumber + 1):\n",
    "        \n",
    "        isPrime = True\n",
    "        for num in range(2, i):\n",
    "            if i % num == 0:\n",
    "                isPrime = False\n",
    "        if isPrime:\n",
    "            yield i\n",
    "            \n",
    "    "
   ]
  },
  {
   "cell_type": "code",
   "execution_count": 25,
   "id": "7ee453f7",
   "metadata": {},
   "outputs": [
    {
     "data": {
      "text/plain": [
       "<generator object prime_number at 0x000001350E571BA0>"
      ]
     },
     "execution_count": 25,
     "metadata": {},
     "output_type": "execute_result"
    }
   ],
   "source": [
    "prime_number(1000)"
   ]
  },
  {
   "cell_type": "code",
   "execution_count": 26,
   "id": "50380aee",
   "metadata": {},
   "outputs": [],
   "source": [
    "val = prime_number(1000)"
   ]
  },
  {
   "cell_type": "code",
   "execution_count": 27,
   "id": "4831b310",
   "metadata": {},
   "outputs": [
    {
     "name": "stdout",
     "output_type": "stream",
     "text": [
      "2\n",
      "3\n",
      "5\n",
      "7\n",
      "11\n",
      "13\n",
      "17\n",
      "19\n",
      "23\n",
      "29\n",
      "31\n",
      "37\n",
      "41\n",
      "43\n",
      "47\n",
      "53\n",
      "59\n",
      "61\n",
      "67\n",
      "71\n"
     ]
    }
   ],
   "source": [
    "for i in range(20):\n",
    "    print(next(val))"
   ]
  },
  {
   "cell_type": "markdown",
   "id": "fdbc3dae",
   "metadata": {},
   "source": [
    "<h5>Q6. Write a python program to print the first 10 Fibonacci numbers using a while loop.</h5>"
   ]
  },
  {
   "cell_type": "code",
   "execution_count": 28,
   "id": "77e3e4e6",
   "metadata": {},
   "outputs": [
    {
     "name": "stdout",
     "output_type": "stream",
     "text": [
      "0\n",
      "1\n",
      "1\n",
      "2\n",
      "3\n",
      "5\n",
      "8\n",
      "13\n",
      "21\n",
      "34\n"
     ]
    }
   ],
   "source": [
    "a, b = 0,1\n",
    "i = 1\n",
    "while i<=10:\n",
    "    print(a)\n",
    "    a,b = b,a+b\n",
    "    i = i+1"
   ]
  },
  {
   "cell_type": "markdown",
   "id": "653c75ec",
   "metadata": {},
   "source": [
    "<h5>Q7. Write a List Comprehension to iterate through the given string: ‘pwskills’.\n",
    "\n",
    "Expected output: ['p', 'w', 's', 'k', 'i', 'l', 'l', 's']</h5>"
   ]
  },
  {
   "cell_type": "code",
   "execution_count": 29,
   "id": "e300eb8a",
   "metadata": {},
   "outputs": [
    {
     "data": {
      "text/plain": [
       "['p', 'w', 's', 'k', 'i', 'l', 'l', 's']"
      ]
     },
     "execution_count": 29,
     "metadata": {},
     "output_type": "execute_result"
    }
   ],
   "source": [
    "strng = \"pwskills\"\n",
    "[i for i in strng]"
   ]
  },
  {
   "cell_type": "markdown",
   "id": "a9a676eb",
   "metadata": {},
   "source": [
    "<h5>Q8. Write a python program to check whether a given number is Palindrome or not using a while loop.</h5>"
   ]
  },
  {
   "cell_type": "code",
   "execution_count": 33,
   "id": "e507b5ab",
   "metadata": {},
   "outputs": [
    {
     "name": "stdout",
     "output_type": "stream",
     "text": [
      "Enter number:123\n",
      "Not a palindrome number\n"
     ]
    }
   ],
   "source": [
    "a = int(input(\"Enter number:\"))\n",
    "\n",
    "b = a\n",
    "num = 0\n",
    "while a>0:\n",
    "    rem = a%10\n",
    "    num = num*10 + rem\n",
    "    a = a//10\n",
    "    \n",
    "if b == num:\n",
    "    print(\"Palindrome number\")\n",
    "else:\n",
    "    print(\"Not a palindrome number\")"
   ]
  },
  {
   "cell_type": "markdown",
   "id": "867e0bcf",
   "metadata": {},
   "source": [
    "<h5>Q9. Write a code to print odd numbers from 1 to 100 using list comprehension.</h5>"
   ]
  },
  {
   "cell_type": "code",
   "execution_count": 42,
   "id": "dfa4b324",
   "metadata": {},
   "outputs": [],
   "source": [
    "lst = [i for i in range(1,101)]"
   ]
  },
  {
   "cell_type": "code",
   "execution_count": 43,
   "id": "d672bd4a",
   "metadata": {},
   "outputs": [],
   "source": [
    "new_lst = [i for i in lst if i%2 != 0]"
   ]
  },
  {
   "cell_type": "code",
   "execution_count": 44,
   "id": "227ea0bc",
   "metadata": {},
   "outputs": [
    {
     "data": {
      "text/plain": [
       "[1,\n",
       " 3,\n",
       " 5,\n",
       " 7,\n",
       " 9,\n",
       " 11,\n",
       " 13,\n",
       " 15,\n",
       " 17,\n",
       " 19,\n",
       " 21,\n",
       " 23,\n",
       " 25,\n",
       " 27,\n",
       " 29,\n",
       " 31,\n",
       " 33,\n",
       " 35,\n",
       " 37,\n",
       " 39,\n",
       " 41,\n",
       " 43,\n",
       " 45,\n",
       " 47,\n",
       " 49,\n",
       " 51,\n",
       " 53,\n",
       " 55,\n",
       " 57,\n",
       " 59,\n",
       " 61,\n",
       " 63,\n",
       " 65,\n",
       " 67,\n",
       " 69,\n",
       " 71,\n",
       " 73,\n",
       " 75,\n",
       " 77,\n",
       " 79,\n",
       " 81,\n",
       " 83,\n",
       " 85,\n",
       " 87,\n",
       " 89,\n",
       " 91,\n",
       " 93,\n",
       " 95,\n",
       " 97,\n",
       " 99]"
      ]
     },
     "execution_count": 44,
     "metadata": {},
     "output_type": "execute_result"
    }
   ],
   "source": [
    "new_lst"
   ]
  },
  {
   "cell_type": "code",
   "execution_count": null,
   "id": "b2279ec9",
   "metadata": {},
   "outputs": [],
   "source": []
  }
 ],
 "metadata": {
  "kernelspec": {
   "display_name": "Python 3 (ipykernel)",
   "language": "python",
   "name": "python3"
  },
  "language_info": {
   "codemirror_mode": {
    "name": "ipython",
    "version": 3
   },
   "file_extension": ".py",
   "mimetype": "text/x-python",
   "name": "python",
   "nbconvert_exporter": "python",
   "pygments_lexer": "ipython3",
   "version": "3.9.7"
  }
 },
 "nbformat": 4,
 "nbformat_minor": 5
}
